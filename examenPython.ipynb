{
  "nbformat": 4,
  "nbformat_minor": 0,
  "metadata": {
    "colab": {
      "provenance": [],
      "authorship_tag": "ABX9TyN9ZMiV8MzKJ8PfD2KZIhRi",
      "include_colab_link": true
    },
    "kernelspec": {
      "name": "python3",
      "display_name": "Python 3"
    },
    "language_info": {
      "name": "python"
    }
  },
  "cells": [
    {
      "cell_type": "markdown",
      "metadata": {
        "id": "view-in-github",
        "colab_type": "text"
      },
      "source": [
        "<a href=\"https://colab.research.google.com/github/santiago-salazar-s/examenPy/blob/main/examenPython.ipynb\" target=\"_parent\"><img src=\"https://colab.research.google.com/assets/colab-badge.svg\" alt=\"Open In Colab\"/></a>"
      ]
    },
    {
      "cell_type": "code",
      "source": [
        "###BQ este codigo funciona porque se ubica el diccionario en la posicion 3 de la lista teniendo en cuenta que esta comienza en 0,\n",
        "###para llamar el valor dentro del diccionario se pone primero la posicion en la lista y luego se llama el valor del diccionario con la clave\n",
        "\n",
        "diccionario =  [1,2,4,{\"name\":\"santi\"},5,6 ]\n",
        "diccionario [3][\"name\"]"
      ],
      "metadata": {
        "colab": {
          "base_uri": "https://localhost:8080/",
          "height": 35
        },
        "id": "W-mPQ5NuCYam",
        "outputId": "6d56003e-4402-4693-8e78-b4841fb4f25e"
      },
      "execution_count": 9,
      "outputs": [
        {
          "output_type": "execute_result",
          "data": {
            "text/plain": [
              "'santi'"
            ],
            "application/vnd.google.colaboratory.intrinsic+json": {
              "type": "string"
            }
          },
          "metadata": {},
          "execution_count": 9
        }
      ]
    },
    {
      "cell_type": "code",
      "source": [
        "##CQ\n",
        "## los bucles son estructuras que permiten repetir una fraccion de codigo mientras las condiciones se cumplan, pueden ser infinitas por lo que se requiere\n",
        "## en algunos casos crear un break o generar alguna condicion que rompa el ciclo, estas estructuras son muy utiles para buscar informacion dentro de diccionarios\n",
        "## o listas\n",
        "\n",
        "people = [\n",
        "    {\"name\": \"Carter\", \"number\": \"+1-617-495-1000\"},\n",
        "    {\"name\": \"David\", \"number\": \"+1-617-495-1000\"},\n",
        "    {\"name\": \"John\", \"number\": \"+1-949-468-2750\"}\n",
        "]\n",
        "\n",
        "## se declara la variable \"name\" con la que se hace un input en la que se puede poner el nombre que se busca en el diccionario\n",
        "name = input(\"Name: \")\n",
        "\n",
        "## se genera un ciclo for con la variable \"person\" que va a entrar dentro del diccionario \"people\", si el nombre que se agrega en el input esta en el diccionario\n",
        "## se imprime \"found\" con el numero telefonico que tiene como valor, sino se imprime \"not found\"\n",
        "for person in people:\n",
        "    if person[\"name\"] == name:\n",
        "        number = person[\"number\"]\n",
        "        print(f\"Found {number}\")\n",
        "        break\n",
        "else:\n",
        "    print(\"Not found\")"
      ],
      "metadata": {
        "colab": {
          "base_uri": "https://localhost:8080/"
        },
        "id": "gozKO98dCfPL",
        "outputId": "661512c3-4375-47b3-c7c5-e87fec67e35a"
      },
      "execution_count": 10,
      "outputs": [
        {
          "output_type": "stream",
          "name": "stdout",
          "text": [
            "Name: santi\n",
            "Not found\n"
          ]
        }
      ]
    },
    {
      "cell_type": "code",
      "source": [
        "##DQ\n",
        "##se genera el diccionario \"people\" en el que las claves son \"name\" y \"number\" y se agregan los valores para la clave\n",
        "\n",
        "people = [\n",
        "    {\"name\": \"Carter\", \"number\": \"+1-617-495-1000\"},\n",
        "    {\"name\": \"David\", \"number\": \"+1-617-495-1000\"},\n",
        "    {\"name\": \"John\", \"number\": \"+1-949-468-2750\"}\n",
        "]\n",
        "\n",
        "## se declara la variable \"name\" con la que se hace un input en la que se puede poner el nombre que se busca en el diccionario\n",
        "\n",
        "name = input(\"Name: \")\n",
        "\n",
        "## se genera un ciclo for con la variable \"person\" que va a entrar dentro del diccionario \"people\", si el nombre que se agrega en el input esta en el diccionario\n",
        "## se imprime \"found\" con el numero telefonico que tiene como valor, sino se imprime \"not found\"\n",
        "for person in people:\n",
        "    if person[\"name\"] == name:\n",
        "        number = person[\"number\"]\n",
        "        print(f\"Found {number}\")\n",
        "        break\n",
        "else:\n",
        "    print(\"Not found\")"
      ],
      "metadata": {
        "id": "4zbW3LWSClps"
      },
      "execution_count": null,
      "outputs": []
    }
  ]
}